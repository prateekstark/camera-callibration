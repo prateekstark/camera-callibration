{
 "cells": [
  {
   "cell_type": "code",
   "execution_count": 1,
   "metadata": {},
   "outputs": [],
   "source": [
    "import sys\n",
    "sys.path.remove('/opt/ros/kinetic/lib/python2.7/dist-packages')\n",
    "import numpy as np\n",
    "import cv2"
   ]
  },
  {
   "cell_type": "code",
   "execution_count": 2,
   "metadata": {},
   "outputs": [],
   "source": [
    "def calibrate_camera(object_point_arr, image_point_arr):\n",
    "    object_point_arr = np.asarray(object_point_arr)\n",
    "    image_point_arr = np.asarray(image_point_arr)\n",
    "    \n",
    "    num_points = object_point_arr.shape[0]\n",
    "    T_object, norm_object = normalize_points(3, object_point_arr)\n",
    "    T_img, norm_img = normalize_points(2, image_point_arr)\n",
    "    A = []\n",
    "    for i in range(num_points):\n",
    "        x, y, z = norm_object[i, 0], norm_object[i, 1], norm_object[i, 2]\n",
    "        u, v = norm_img[i, 0], norm_img[i, 1]\n",
    "        A.append( [x, y, z, 1, 0, 0, 0, 0, -u*x, -u*y, -u*z, -u] )\n",
    "        A.append( [0, 0, 0, 0, x, y, z, 1, -v*x, -v*y, -v*z, -v] )\n",
    "#     print(A.shape)\n",
    "    A = np.asarray(A)\n",
    "    #print(A)\n",
    "    U, S, Vh = np.linalg.svd(A)\n",
    "    L = Vh[-1,:]/Vh[-1,-1]\n",
    "    H = L.reshape(3, 4)\n",
    "    H = np.dot(np.dot(np.linalg.pinv(T_img), H), T_object)\n",
    "    H = H/H[-1, -1]\n",
    "    L = H.flatten(0)\n",
    "    uv2 = np.dot(H, np.concatenate((object_point_arr.T, np.ones((1, object_point_arr.shape[0])))))\n",
    "    uv2 = uv2/uv2[2,:]\n",
    "    err = np.sqrt(np.mean(np.sum((uv2[0:2,:].T - image_point_arr))))\n",
    "    return L, err\n",
    "        \n",
    "        "
   ]
  },
  {
   "cell_type": "code",
   "execution_count": 3,
   "metadata": {},
   "outputs": [],
   "source": [
    "def normalize_points(input_dimension, point_arr):\n",
    "    point_arr = np.asarray(point_arr)\n",
    "    mean, standard_deviation = np.mean(point_arr, 0), np.std(point_arr)\n",
    "#     print(mean)\n",
    "    if (input_dimension == 2):\n",
    "        transformation_matrix = np.array([[standard_deviation, 0, mean[0]], [0, standard_deviation, mean[1]], [0, 0, 1]])\n",
    "    elif (input_dimension == 3):\n",
    "        transformation_matrix = np.array([[standard_deviation, 0, 0, mean[0]], [0, standard_deviation, 0, mean[1]], [0, 0, standard_deviation, mean[2]], [0, 0, 0, 1]])\n",
    "    transformation_matrix = np.linalg.inv(transformation_matrix)\n",
    "    transformed_data = np.dot(transformation_matrix, np.concatenate((point_arr.T, np.ones((1, point_arr.shape[0])))))\n",
    "    transformed_data = transformed_data[0:input_dimension,:].T\n",
    "    return transformation_matrix, transformed_data    "
   ]
  },
  {
   "cell_type": "code",
   "execution_count": 4,
   "metadata": {},
   "outputs": [],
   "source": [
    "real_obj1 = [[500,0,0], [540,0,0], [600,0,0], [560,0,0], [660,0,0], [500,40,0], [560,40,0], [600,40,0]]\n",
    "real_obj2 = [[500,0,200], [540,0,200], [600,0,200], [560,0,200], [660,0,200], [500,40,200], [560,40,200], [600,40,200]]\n",
    "real_obj = real_obj1 + real_obj2"
   ]
  },
  {
   "cell_type": "code",
   "execution_count": 5,
   "metadata": {},
   "outputs": [],
   "source": [
    "# real_obj"
   ]
  },
  {
   "cell_type": "code",
   "execution_count": 6,
   "metadata": {},
   "outputs": [],
   "source": [
    "view1 = [[131,35],[164,36],[215,37],[184,37],[263,39],[131,69],[183,70],[214,70]]\n",
    "view2 = [[95,31],[122,32],[164,33],[138,32],[220,35],[95,58],[138,59],[163,60]]\n",
    "view = view1 + view2"
   ]
  },
  {
   "cell_type": "code",
   "execution_count": 7,
   "metadata": {},
   "outputs": [
    {
     "name": "stdout",
     "output_type": "stream",
     "text": [
      "[ 6.39798582e-01  1.39854756e-02 -1.30914954e-01 -2.06577305e+02\n",
      "  7.51156032e-03  6.76412266e-01 -1.21955755e-02  2.69107443e+01\n",
      " -2.89491588e-04  1.74523408e-04  3.69860695e-04  1.00000000e+00]\n"
     ]
    },
    {
     "name": "stderr",
     "output_type": "stream",
     "text": [
      "/home/stark/.local/lib/python3.5/site-packages/ipykernel_launcher.py:22: DeprecationWarning: Non-string object detected for the array ordering. Please pass in 'C', 'F', 'A', or 'K' instead\n"
     ]
    }
   ],
   "source": [
    "param, err = calibrate_camera(real_obj, view)\n",
    "print(param)\n",
    "# param1, err1 = calibrate_camera(real_obj1, view1)\n",
    "# print(param1)\n",
    "H1 = param[0:9]\n",
    "H2 = param[9:]"
   ]
  },
  {
   "cell_type": "code",
   "execution_count": 8,
   "metadata": {},
   "outputs": [
    {
     "name": "stdout",
     "output_type": "stream",
     "text": [
      "0.19247873547501718\n"
     ]
    }
   ],
   "source": [
    "print(err)"
   ]
  },
  {
   "cell_type": "code",
   "execution_count": 9,
   "metadata": {},
   "outputs": [],
   "source": [
    "param = param.reshape(3,4)"
   ]
  },
  {
   "cell_type": "code",
   "execution_count": 10,
   "metadata": {},
   "outputs": [],
   "source": [
    "param = np.asarray(param)"
   ]
  },
  {
   "cell_type": "code",
   "execution_count": 11,
   "metadata": {},
   "outputs": [
    {
     "data": {
      "text/plain": [
       "array([[ 6.39798582e-01,  1.39854756e-02, -1.30914954e-01,\n",
       "        -2.06577305e+02],\n",
       "       [ 7.51156032e-03,  6.76412266e-01, -1.21955755e-02,\n",
       "         2.69107443e+01],\n",
       "       [-2.89491588e-04,  1.74523408e-04,  3.69860695e-04,\n",
       "         1.00000000e+00]])"
      ]
     },
     "execution_count": 11,
     "metadata": {},
     "output_type": "execute_result"
    }
   ],
   "source": [
    "param"
   ]
  },
  {
   "cell_type": "code",
   "execution_count": 12,
   "metadata": {},
   "outputs": [
    {
     "data": {
      "text/plain": [
       "array([[ 1.71338107e+00, -1.31795926e-01,  3.57492403e+02],\n",
       "       [-4.41457703e-02,  1.49060584e+00, -4.92328163e+01],\n",
       "       [-1.55099126e-01, -3.40143012e-02, -3.11242638e+01],\n",
       "       [ 5.61078949e-04, -2.85718870e-04,  1.12359496e+00]])"
      ]
     },
     "execution_count": 12,
     "metadata": {},
     "output_type": "execute_result"
    }
   ],
   "source": [
    "np.linalg.pinv(param)"
   ]
  },
  {
   "cell_type": "code",
   "execution_count": 13,
   "metadata": {},
   "outputs": [],
   "source": [
    "H1 = H1.reshape(3,3)\n",
    "H2 = H2.reshape(3,1)"
   ]
  },
  {
   "cell_type": "code",
   "execution_count": 14,
   "metadata": {},
   "outputs": [
    {
     "data": {
      "text/plain": [
       "array([[ 6.39798582e-01,  1.39854756e-02, -1.30914954e-01],\n",
       "       [-2.06577305e+02,  7.51156032e-03,  6.76412266e-01],\n",
       "       [-1.21955755e-02,  2.69107443e+01, -2.89491588e-04]])"
      ]
     },
     "execution_count": 14,
     "metadata": {},
     "output_type": "execute_result"
    }
   ],
   "source": [
    "H1"
   ]
  },
  {
   "cell_type": "code",
   "execution_count": 15,
   "metadata": {},
   "outputs": [
    {
     "data": {
      "text/plain": [
       "array([[1.74523408e-04],\n",
       "       [3.69860695e-04],\n",
       "       [1.00000000e+00]])"
      ]
     },
     "execution_count": 15,
     "metadata": {},
     "output_type": "execute_result"
    }
   ],
   "source": [
    "H2"
   ]
  },
  {
   "cell_type": "code",
   "execution_count": null,
   "metadata": {},
   "outputs": [],
   "source": []
  },
  {
   "cell_type": "code",
   "execution_count": null,
   "metadata": {},
   "outputs": [],
   "source": []
  },
  {
   "cell_type": "code",
   "execution_count": null,
   "metadata": {},
   "outputs": [],
   "source": []
  }
 ],
 "metadata": {
  "kernelspec": {
   "display_name": "Python 3",
   "language": "python",
   "name": "python3"
  },
  "language_info": {
   "codemirror_mode": {
    "name": "ipython",
    "version": 3
   },
   "file_extension": ".py",
   "mimetype": "text/x-python",
   "name": "python",
   "nbconvert_exporter": "python",
   "pygments_lexer": "ipython3",
   "version": "3.5.2"
  }
 },
 "nbformat": 4,
 "nbformat_minor": 2
}
