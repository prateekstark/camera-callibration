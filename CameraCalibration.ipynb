{
 "cells": [
  {
   "cell_type": "code",
   "execution_count": 1,
   "metadata": {},
   "outputs": [],
   "source": [
    "import sys\n",
    "sys.path.remove('/opt/ros/kinetic/lib/python2.7/dist-packages')\n",
    "import numpy as np\n",
    "import cv2"
   ]
  },
  {
   "cell_type": "code",
   "execution_count": null,
   "metadata": {},
   "outputs": [],
   "source": [
    "def calibrate_camera(object_point_arr, image_point_arr):\n",
    "    object_point_arr = np.asarray(object_point_arr)\n",
    "    image_point_arr = np.asarray(image_point_arr)\n",
    "    num_points = object_point_arr.shape[0]\n",
    "    T_object, norm_object = normalize_points(3, object_point, arr)\n",
    "    T_img, norm_img = normalize_points(2, image_point_arr)\n",
    "    A = []\n",
    "    for i in range(num_points):\n",
    "        x, y, z = norm_object[i, 0], norm_object[i, 1], norm_object[i, 2]\n",
    "        u, v = norm_img[i, 0], norm_img[i, 1]\n",
    "        A.append([x, y, z, 1, 0, 0, 0, -u*x, -u*y, -u*z, -u])\n",
    "        A.append([0, 0, 0, 0, x, y, z, 1, -v*x, -v*y, -v*z, -v])\n",
    "    A = np.asarray(A)\n",
    "    U, S, Vh = np.linalg.svd(A)\n",
    "    L = Vh[-1:]/Vh[-1,-1]\n",
    "    H = L.reshape(3, 4)\n",
    "    H = np.dot(np.dot(np.linalg.pinv(T_img, H), T_object))\n",
    "    H = H/H[-1, -1]\n",
    "    L = H.flatten(0)\n",
    "    uv2 = np.dot(H, np.concatenate((object_point_arr.T, N.ones((1, object_point_arr.shape[0])))))\n",
    "    uv2 = uv2/uv2[2, :]\n",
    "    err = np.sqrt(np.mean(np.sum((uv2[0:2,:].T - image_point_arr))))\n",
    "    return L, err\n",
    "        \n",
    "        "
   ]
  },
  {
   "cell_type": "code",
   "execution_count": null,
   "metadata": {},
   "outputs": [],
   "source": [
    "def reconstruct(num_camera, calib_params, image_point_arr):\n",
    "    calib_params = np.asarray(calib_params)\n",
    "    if (num_camera == 1):\n",
    "        Hinv = np.linalg.inv(calib_params.reshape(3, 3))\n",
    "        point_coordinates = np.dot(Hinv, [image_point_arr[0], image_point_arr[1], 1])\n",
    "        point_coordinates = point_coordinates[0:2]/point_coordinates[2]\n",
    "    else:\n",
    "        M = []\n",
    "        for i in range(num_camera):\n",
    "            L = calib_params[i,:]\n",
    "            u, v = image_point_arr[i][0], image_point_arr[i][1]\n",
    "            M.append([L[0]-u*L[8],L[1]-u*L[9],L[2]-u*L[10],L[3]-u*L[11]])\n",
    "            M.append([L[4]-v*L[8],L[5]-v*L[9],L[6]-v*L[10],L[7]-v*L[11]]))\n",
    "    U, S, Vh = np.linalg.svd(np.asarray(M))\n",
    "    point_coordinates = Vh[-1,0:1]/Vh[-1,-1]"
   ]
  },
  {
   "cell_type": "code",
   "execution_count": null,
   "metadata": {},
   "outputs": [],
   "source": [
    "def normalize_points(input_dimension, point_arr):\n",
    "    point_arr = np.asarray(point_arr)\n",
    "    mean, standard_deviation = np.mean(point_arr, axis = 0), np.std(point_arr)\n",
    "    if (input_dimension == 2):\n",
    "        transformation_matrix = np.array([[standard_deviation, 0, mean[0]], [0, standard_deviation, mean[1]], [0, 0, 1]])\n",
    "    elif (input_dimension == 3):\n",
    "        transformation_matrix = np.array([[standard_deviation, 0, 0, mean[0]], [0, standard_deviation, 0, mean[1]], [0, 0, standard_deviation, mean[2]] [0, 0, 0, 1]])\n",
    "    transformation_matrix = np.linalg.inv(transformation_matrix)\n",
    "    transformed_data = np.dot(transformation_matrix, np.concatenate((point_arr.T, np.ones((1, x.shape[0])))))\n",
    "    transformed_data = [0:input_dimension,:].T\n",
    "    return transformation_matrix, transformed_data    "
   ]
  },
  {
   "cell_type": "code",
   "execution_count": null,
   "metadata": {},
   "outputs": [],
   "source": []
  },
  {
   "cell_type": "code",
   "execution_count": null,
   "metadata": {},
   "outputs": [],
   "source": []
  },
  {
   "cell_type": "code",
   "execution_count": null,
   "metadata": {},
   "outputs": [],
   "source": []
  }
 ],
 "metadata": {
  "kernelspec": {
   "display_name": "Python 3",
   "language": "python",
   "name": "python3"
  },
  "language_info": {
   "codemirror_mode": {
    "name": "ipython",
    "version": 3
   },
   "file_extension": ".py",
   "mimetype": "text/x-python",
   "name": "python",
   "nbconvert_exporter": "python",
   "pygments_lexer": "ipython3",
   "version": "3.5.2"
  }
 },
 "nbformat": 4,
 "nbformat_minor": 2
}
