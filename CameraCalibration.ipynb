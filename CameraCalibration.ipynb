{
 "cells": [
  {
   "cell_type": "code",
   "execution_count": 1,
   "metadata": {},
   "outputs": [],
   "source": [
    "import sys\n",
    "sys.path.remove('/opt/ros/kinetic/lib/python2.7/dist-packages')\n",
    "import numpy as np\n",
    "import cv2"
   ]
  },
  {
   "cell_type": "code",
   "execution_count": 2,
   "metadata": {},
   "outputs": [],
   "source": [
    "def calibrate_camera(object_point_arr, image_point_arr):\n",
    "    object_point_arr = np.asarray(object_point_arr)\n",
    "    image_point_arr = np.asarray(image_point_arr)\n",
    "    \n",
    "    num_points = object_point_arr.shape[0]\n",
    "    T_object, norm_object = normalize_points(3, object_point_arr)\n",
    "    T_img, norm_img = normalize_points(2, image_point_arr)\n",
    "    A = []\n",
    "    for i in range(num_points):\n",
    "        x, y, z = norm_object[i, 0], norm_object[i, 1], norm_object[i, 2]\n",
    "        u, v = norm_img[i, 0], norm_img[i, 1]\n",
    "        A.append( [x, y, z, 1, 0, 0, 0, 0, -u*x, -u*y, -u*z, -u] )\n",
    "        A.append( [0, 0, 0, 0, x, y, z, 1, -v*x, -v*y, -v*z, -v] )\n",
    "#     print(A.shape)\n",
    "    A = np.asarray(A)\n",
    "    #print(A)\n",
    "    U, S, Vh = np.linalg.svd(A)\n",
    "    L = Vh[-1,:]/Vh[-1,-1]\n",
    "    H = L.reshape(3, 4)\n",
    "    H = np.dot(np.dot(np.linalg.pinv(T_img), H), T_object)\n",
    "    H = H/H[-1, -1]\n",
    "    L = H.flatten(0)\n",
    "    uv2 = np.dot(H, np.concatenate((object_point_arr.T, np.ones((1, object_point_arr.shape[0])))))\n",
    "    uv2 = uv2/uv2[2,:]\n",
    "    err = np.sqrt(np.mean(np.sum((uv2[0:2,:].T - image_point_arr))))\n",
    "    return L, err\n",
    "        \n",
    "        "
   ]
  },
  {
   "cell_type": "code",
   "execution_count": 3,
   "metadata": {},
   "outputs": [],
   "source": [
    "def reconstruct(num_camera, calib_params, image_point_arr):\n",
    "    calib_params = np.asarray(calib_params)\n",
    "    if (num_camera == 1):\n",
    "        Hinv = np.linalg.inv(calib_params.reshape(3, 3))\n",
    "        point_coordinates = np.dot(Hinv, [image_point_arr[0], image_point_arr[1], 1])\n",
    "        point_coordinates = point_coordinates[0:2]/point_coordinates[2]\n",
    "    else:\n",
    "        M = []\n",
    "        for i in range(num_camera):\n",
    "            L = calib_params[i,:]\n",
    "            u, v = image_point_arr[i][0], image_point_arr[i][1]\n",
    "            M.append( [L[0]-u*L[8], L[1]-u*L[9], L[2]-u*L[10], L[3]-u*L[11]] )\n",
    "            M.append( [L[4]-v*L[8], L[5]-v*L[9], L[6]-v*L[10], L[7]-v*L[11]] )\n",
    "    U, S, Vh = np.linalg.svd(np.asarray(M))\n",
    "    point_coordinates = Vh[-1,0:1]/Vh[-1,-1]"
   ]
  },
  {
   "cell_type": "code",
   "execution_count": 4,
   "metadata": {},
   "outputs": [],
   "source": [
    "def normalize_points(input_dimension, point_arr):\n",
    "    point_arr = np.asarray(point_arr)\n",
    "    mean, standard_deviation = np.mean(point_arr, 0), np.std(point_arr)\n",
    "#     print(mean)\n",
    "    if (input_dimension == 2):\n",
    "        transformation_matrix = np.array([[standard_deviation, 0, mean[0]], [0, standard_deviation, mean[1]], [0, 0, 1]])\n",
    "    elif (input_dimension == 3):\n",
    "        transformation_matrix = np.array([[standard_deviation, 0, 0, mean[0]], [0, standard_deviation, 0, mean[1]], [0, 0, standard_deviation, mean[2]], [0, 0, 0, 1]])\n",
    "    transformation_matrix = np.linalg.inv(transformation_matrix)\n",
    "    transformed_data = np.dot(transformation_matrix, np.concatenate((point_arr.T, np.ones((1, point_arr.shape[0])))))\n",
    "    transformed_data = transformed_data[0:input_dimension,:].T\n",
    "    return transformation_matrix, transformed_data    "
   ]
  },
  {
   "cell_type": "code",
   "execution_count": 5,
   "metadata": {},
   "outputs": [],
   "source": [
    "real_obj1 = [[500,0,0], [540,0,0], [600,0,0], [560,0,0], [660,0,0], [500,40,0], [560,40,0], [600,40,0]]\n",
    "real_obj2 = [[500,0,200], [540,0,200], [600,0,200], [560,0,200], [660,0,200], [500,40,200], [560,40,200], [600,40,200]]\n",
    "real_obj = real_obj1 + real_obj2"
   ]
  },
  {
   "cell_type": "code",
   "execution_count": 6,
   "metadata": {},
   "outputs": [],
   "source": [
    "# real_obj"
   ]
  },
  {
   "cell_type": "code",
   "execution_count": 7,
   "metadata": {},
   "outputs": [],
   "source": [
    "view1 = [[131,35],[164,36],[215,37],[184,37],[263,39],[131,69],[183,70],[214,70]]\n",
    "view2 = [[95,31],[122,32],[164,33],[138,32],[220,35],[95,58],[138,59],[163,60]]\n",
    "view = view1 + view2"
   ]
  },
  {
   "cell_type": "code",
   "execution_count": 8,
   "metadata": {},
   "outputs": [
    {
     "name": "stdout",
     "output_type": "stream",
     "text": [
      "[ 6.39798582e-01  1.39854756e-02 -1.30914954e-01 -2.06577305e+02\n",
      "  7.51156032e-03  6.76412266e-01 -1.21955755e-02  2.69107443e+01\n",
      " -2.89491588e-04  1.74523408e-04  3.69860695e-04  1.00000000e+00]\n"
     ]
    },
    {
     "name": "stderr",
     "output_type": "stream",
     "text": [
      "/home/stark/.local/lib/python3.5/site-packages/ipykernel_launcher.py:22: DeprecationWarning: Non-string object detected for the array ordering. Please pass in 'C', 'F', 'A', or 'K' instead\n"
     ]
    }
   ],
   "source": [
    "param, err = calibrate_camera(real_obj, view)\n",
    "print(param)\n",
    "# param1, err1 = calibrate_camera(real_obj1, view1)\n",
    "# print(param1)"
   ]
  },
  {
   "cell_type": "code",
   "execution_count": 11,
   "metadata": {},
   "outputs": [
    {
     "name": "stdout",
     "output_type": "stream",
     "text": [
      "0.19247873547501718\n"
     ]
    }
   ],
   "source": [
    "# param2, err2 = calibrate_camera(real_obj2, view2)\n",
    "# print(param2)\n",
    "print(err)"
   ]
  },
  {
   "cell_type": "code",
   "execution_count": null,
   "metadata": {},
   "outputs": [],
   "source": []
  }
 ],
 "metadata": {
  "kernelspec": {
   "display_name": "Python 3",
   "language": "python",
   "name": "python3"
  },
  "language_info": {
   "codemirror_mode": {
    "name": "ipython",
    "version": 3
   },
   "file_extension": ".py",
   "mimetype": "text/x-python",
   "name": "python",
   "nbconvert_exporter": "python",
   "pygments_lexer": "ipython3",
   "version": "3.5.2"
  }
 },
 "nbformat": 4,
 "nbformat_minor": 2
}
